{
 "cells": [
  {
   "cell_type": "code",
   "execution_count": null,
   "metadata": {},
   "outputs": [],
   "source": [
    "import pandas as pd\n",
    "import requests\n",
    "from selenium import webdriver\n",
    "from selenium.webdriver.common.by import By\n",
    "import selenium\n",
    "from selenium.webdriver.common.keys import Keys\n",
    "import time"
   ]
  },
  {
   "cell_type": "code",
   "execution_count": null,
   "metadata": {},
   "outputs": [],
   "source": [
    "df = pd.read_csv('C:/Users/ASUS/Desktop/KSN_CP.csv', encoding='latin-1', sep = ';')\n",
    "# Загрузили только процессоры без TDP\n",
    "file = df[df['TDP, W'] == 'N']"
   ]
  },
  {
   "cell_type": "code",
   "execution_count": null,
   "metadata": {},
   "outputs": [],
   "source": [
    "file.head()"
   ]
  },
  {
   "cell_type": "code",
   "execution_count": null,
   "metadata": {},
   "outputs": [],
   "source": [
    "# Запустили управляемый браузер\n",
    "driver = webdriver.Chrome()"
   ]
  },
  {
   "cell_type": "code",
   "execution_count": null,
   "metadata": {},
   "outputs": [],
   "source": [
    "url = 'https://cpu.userbenchmark.com/'"
   ]
  },
  {
   "cell_type": "code",
   "execution_count": null,
   "metadata": {},
   "outputs": [],
   "source": [
    "# Перешли на начальную страницу сайта\n",
    "driver.get(url)"
   ]
  },
  {
   "cell_type": "code",
   "execution_count": null,
   "metadata": {},
   "outputs": [],
   "source": [
    "def find_tdp(xxx):\n",
    "    try:\n",
    "        # Нашли графу для поиска, послали запрос с названием процессора\n",
    "        elem = driver.find_element_by_name(\"navForm:searchInput\")\n",
    "        elem.clear()\n",
    "        elem.send_keys(xxx)\n",
    "        elem.send_keys(Keys.RETURN)\n",
    "        # Добавляем задержку, дабы сервер не обнаружил ничего подозрительного\n",
    "        time.sleep(1)\n",
    "\n",
    "        # Забираем TDP если сразу перешло на страничку с процессором\n",
    "        tdp_s = driver.find_elements_by_class_name('stronglink')\n",
    "        time.sleep(1)\n",
    "        tdp_t = []\n",
    "        tdp_fin = []\n",
    "        # Из всех элементов с классом 'stronglink' достаём текст\n",
    "        for tdp in tdp_s:\n",
    "            tdp_t.append(tdp.text)\n",
    "        # Находим именно TDP из полученного списка\n",
    "        for tdp1 in tdp_t:\n",
    "            if len(tdp1) <= 5 and tdp1[-1] == 'W':\n",
    "                tdp_fin.append(tdp1)\n",
    "        \n",
    "        # Если на предложило на выбор несколько процессоров, выбираем первый и проделываем с ним то же самое\n",
    "        if tdp_fin == []: \n",
    "            time.sleep(1)\n",
    "            driver.find_element_by_class_name('tl-tag').click()\n",
    "            tdp_s1 = driver.find_elements_by_class_name('stronglink')\n",
    "            tdp_t1 = []\n",
    "            tdp_fin = []\n",
    "            for tdp2 in tdp_s1:\n",
    "                tdp_t1.append(tdp2.text)\n",
    "            for tdp3 in tdp_t1:\n",
    "                if len(tdp3) <= 5 and tdp3[-1] == 'W':\n",
    "                    tdp_fin.append(tdp3)\n",
    "        if tdp_fin == []:\n",
    "            # В случае если TDP не указан, вставляем в ячейку n\n",
    "            print('n')\n",
    "            return 'n'\n",
    "        # Пишем TDP чтобы проверить, что процесс идёт\n",
    "        print(tdp_fin[0])\n",
    "        return tdp_fin[0]\n",
    "    except:\n",
    "        # В случае если процессор вообще не нашло, вставляем в ячейку n\n",
    "        return 'n'"
   ]
  },
  {
   "cell_type": "code",
   "execution_count": null,
   "metadata": {},
   "outputs": [],
   "source": [
    "# Отбираем первые 5 процессоров с пропусками\n",
    "c = [0, 1, 2, 3, 4]\n",
    "file_test = file.iloc[c]\n",
    "file_test"
   ]
  },
  {
   "cell_type": "code",
   "execution_count": null,
   "metadata": {},
   "outputs": [],
   "source": [
    "# Проверяем на них\n",
    "file_test['TDP, W']= file_test['name'].apply(find_tdp)"
   ]
  },
  {
   "cell_type": "code",
   "execution_count": null,
   "metadata": {},
   "outputs": [],
   "source": [
    "file_test"
   ]
  },
  {
   "cell_type": "code",
   "execution_count": null,
   "metadata": {
    "scrolled": true
   },
   "outputs": [],
   "source": [
    "# Делаем это для всего списка\n",
    "file['TDP, W']= file['name'].apply(find_tdp)"
   ]
  },
  {
   "cell_type": "code",
   "execution_count": null,
   "metadata": {},
   "outputs": [],
   "source": [
    "file"
   ]
  },
  {
   "cell_type": "code",
   "execution_count": null,
   "metadata": {},
   "outputs": [],
   "source": [
    "file.to_excel('Загрузка прошла.xlsx', index = False)"
   ]
  },
  {
   "cell_type": "code",
   "execution_count": null,
   "metadata": {},
   "outputs": [],
   "source": [
    "# убрали пропуски\n",
    "file_fin = file[file['TDP, W'] != 'n']"
   ]
  },
  {
   "cell_type": "code",
   "execution_count": null,
   "metadata": {},
   "outputs": [],
   "source": [
    "# оставили только цифры\n",
    "file_fin['TDP, W'] = file_fin['TDP, W'].apply(lambda x: x[0:len(x) - 2])"
   ]
  },
  {
   "cell_type": "code",
   "execution_count": null,
   "metadata": {},
   "outputs": [],
   "source": [
    "# перевели во float\n",
    "file_fin['TDP, W'] = file_fin['TDP, W'].apply(lambda x: float(x))"
   ]
  },
  {
   "cell_type": "code",
   "execution_count": null,
   "metadata": {},
   "outputs": [],
   "source": [
    "file_fin"
   ]
  },
  {
   "cell_type": "code",
   "execution_count": null,
   "metadata": {},
   "outputs": [],
   "source": [
    "file_fin.to_excel('file_fin.xlsx', index = False)"
   ]
  },
  {
   "cell_type": "code",
   "execution_count": null,
   "metadata": {},
   "outputs": [],
   "source": [
    "original_data = pd.read_csv('C:/Users/ASUS/YandexDisk/kaspersky work/CPU/KSN_CPU_TDP_20190801.csv', encoding='latin-1', sep = ';')"
   ]
  },
  {
   "cell_type": "code",
   "execution_count": null,
   "metadata": {},
   "outputs": [],
   "source": [
    "original_data.head()"
   ]
  },
  {
   "cell_type": "code",
   "execution_count": null,
   "metadata": {},
   "outputs": [],
   "source": [
    "for x in file_fin.index:\n",
    "    original_data['TDP, W'][x] = file_fin['TDP, W'][x]"
   ]
  },
  {
   "cell_type": "code",
   "execution_count": null,
   "metadata": {},
   "outputs": [],
   "source": [
    "original_data.iloc[2486]"
   ]
  },
  {
   "cell_type": "code",
   "execution_count": null,
   "metadata": {},
   "outputs": [],
   "source": [
    "file_fin['TDP, W'][]"
   ]
  },
  {
   "cell_type": "code",
   "execution_count": null,
   "metadata": {},
   "outputs": [],
   "source": [
    "original_data.to_csv('CPU данные.csv', index = False, sep = ';')"
   ]
  }
 ],
 "metadata": {
  "kernelspec": {
   "display_name": "Python 3",
   "language": "python",
   "name": "python3"
  },
  "language_info": {
   "codemirror_mode": {
    "name": "ipython",
    "version": 3
   },
   "file_extension": ".py",
   "mimetype": "text/x-python",
   "name": "python",
   "nbconvert_exporter": "python",
   "pygments_lexer": "ipython3",
   "version": "3.7.7"
  }
 },
 "nbformat": 4,
 "nbformat_minor": 4
}
